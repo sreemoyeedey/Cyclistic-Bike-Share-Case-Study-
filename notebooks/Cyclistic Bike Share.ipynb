{
 "cells": [
  {
   "cell_type": "code",
   "execution_count": 1,
   "id": "31d1f79e-2ffb-408c-be57-74dd241b0922",
   "metadata": {},
   "outputs": [],
   "source": [
    "import pandas as pd\n",
    "import glob\n",
    "import os"
   ]
  },
  {
   "cell_type": "code",
   "execution_count": 25,
   "id": "b52cd641-d55c-4fc2-9e9d-28cb04b98a8e",
   "metadata": {},
   "outputs": [],
   "source": [
    "path = r\"C:\\Users\\SREEMOYEE\\Downloads\\Cyclistic-Case-study\"  \n",
    "all_files = glob.glob(os.path.join(path, \"*.csv\"))"
   ]
  },
  {
   "cell_type": "code",
   "execution_count": 26,
   "id": "e073f23f-2799-46c4-9925-72961152e1ca",
   "metadata": {},
   "outputs": [
    {
     "name": "stdout",
     "output_type": "stream",
     "text": [
      "Found 12 CSV files.\n"
     ]
    }
   ],
   "source": [
    "print(f\"Found {len(all_files)} CSV files.\")\n"
   ]
  },
  {
   "cell_type": "code",
   "execution_count": 27,
   "id": "e47debeb-5b7c-4fca-91af-1cd334a755c9",
   "metadata": {},
   "outputs": [
    {
     "name": "stdout",
     "output_type": "stream",
     "text": [
      "Reading C:\\Users\\SREEMOYEE\\Downloads\\Cyclistic-Case-study\\202307-divvy-tripdata.csv ...\n",
      "Reading C:\\Users\\SREEMOYEE\\Downloads\\Cyclistic-Case-study\\202308-divvy-tripdata.csv ...\n",
      "Reading C:\\Users\\SREEMOYEE\\Downloads\\Cyclistic-Case-study\\202309-divvy-tripdata.csv ...\n",
      "Reading C:\\Users\\SREEMOYEE\\Downloads\\Cyclistic-Case-study\\202310-divvy-tripdata.csv ...\n",
      "Reading C:\\Users\\SREEMOYEE\\Downloads\\Cyclistic-Case-study\\202311-divvy-tripdata.csv ...\n",
      "Reading C:\\Users\\SREEMOYEE\\Downloads\\Cyclistic-Case-study\\202312-divvy-tripdata.csv ...\n",
      "Reading C:\\Users\\SREEMOYEE\\Downloads\\Cyclistic-Case-study\\202401-divvy-tripdata.csv ...\n",
      "Reading C:\\Users\\SREEMOYEE\\Downloads\\Cyclistic-Case-study\\202402-divvy-tripdata.csv ...\n",
      "Reading C:\\Users\\SREEMOYEE\\Downloads\\Cyclistic-Case-study\\202403-divvy-tripdata.csv ...\n",
      "Reading C:\\Users\\SREEMOYEE\\Downloads\\Cyclistic-Case-study\\202404-divvy-tripdata.csv ...\n",
      "Reading C:\\Users\\SREEMOYEE\\Downloads\\Cyclistic-Case-study\\202405-divvy-tripdata.csv ...\n",
      "Reading C:\\Users\\SREEMOYEE\\Downloads\\Cyclistic-Case-study\\202406-divvy-tripdata.csv ...\n"
     ]
    }
   ],
   "source": [
    "#combining all files\n",
    "df_list = []\n",
    "for file in all_files:\n",
    "    print(f\"Reading {file} ...\")\n",
    "    df = pd.read_csv(file)\n",
    "    df['source_file'] = os.path.basename(file)  # Add filename column\n",
    "    df_list.append(df)"
   ]
  },
  {
   "cell_type": "code",
   "execution_count": 28,
   "id": "d564ddef-432e-4ad5-b73f-64f05dc06223",
   "metadata": {},
   "outputs": [
    {
     "name": "stdout",
     "output_type": "stream",
     "text": [
      "Combined DataFrame shape: (5734381, 14)\n"
     ]
    }
   ],
   "source": [
    "combined_df = pd.concat(df_list, ignore_index=True)\n",
    "print(f\"Combined DataFrame shape: {combined_df.shape}\")"
   ]
  },
  {
   "cell_type": "code",
   "execution_count": 29,
   "id": "37130fcd-8361-482b-acbb-ca2dcc742253",
   "metadata": {},
   "outputs": [],
   "source": [
    "output_path = r\"C:\\Users\\SREEMOYEE\\Downloads\\Cyclistic-Case-Study\\Combined Data\\cyclistic_tripdata_12months.csv\"  "
   ]
  },
  {
   "cell_type": "code",
   "execution_count": 30,
   "id": "abe5c53a-82b0-4214-b05b-1385a8c83a10",
   "metadata": {},
   "outputs": [],
   "source": [
    "os.makedirs(os.path.dirname(output_path), exist_ok=True)"
   ]
  },
  {
   "cell_type": "code",
   "execution_count": 3,
   "id": "874d7b4c-dde3-4c2c-9a96-1286248231b3",
   "metadata": {},
   "outputs": [],
   "source": [
    "df = pd.read_csv(\"cyclistic_tripdata_12months.csv\")"
   ]
  },
  {
   "cell_type": "code",
   "execution_count": 31,
   "id": "811c303e-a019-44e7-bebb-1e87ef34a8e8",
   "metadata": {},
   "outputs": [],
   "source": [
    "combined_df.to_csv(output_path, index=False)"
   ]
  },
  {
   "cell_type": "code",
   "execution_count": 32,
   "id": "d37df8e1-43a2-4951-bfdb-5662212972bb",
   "metadata": {},
   "outputs": [
    {
     "name": "stdout",
     "output_type": "stream",
     "text": [
      "Combined dataset saved at:\n",
      "C:\\Users\\SREEMOYEE\\Downloads\\Cyclistic-Case-Study\\Combined Data\\cyclistic_tripdata_12months.csv\n"
     ]
    }
   ],
   "source": [
    "print(f\"Combined dataset saved at:\\n{output_path}\")"
   ]
  },
  {
   "cell_type": "code",
   "execution_count": 33,
   "id": "6297c659-ca6d-451c-8174-92884352cb82",
   "metadata": {},
   "outputs": [
    {
     "data": {
      "text/html": [
       "<div>\n",
       "<style scoped>\n",
       "    .dataframe tbody tr th:only-of-type {\n",
       "        vertical-align: middle;\n",
       "    }\n",
       "\n",
       "    .dataframe tbody tr th {\n",
       "        vertical-align: top;\n",
       "    }\n",
       "\n",
       "    .dataframe thead th {\n",
       "        text-align: right;\n",
       "    }\n",
       "</style>\n",
       "<table border=\"1\" class=\"dataframe\">\n",
       "  <thead>\n",
       "    <tr style=\"text-align: right;\">\n",
       "      <th></th>\n",
       "      <th>ride_id</th>\n",
       "      <th>rideable_type</th>\n",
       "      <th>started_at</th>\n",
       "      <th>ended_at</th>\n",
       "      <th>start_station_name</th>\n",
       "      <th>start_station_id</th>\n",
       "      <th>end_station_name</th>\n",
       "      <th>end_station_id</th>\n",
       "      <th>start_lat</th>\n",
       "      <th>start_lng</th>\n",
       "      <th>end_lat</th>\n",
       "      <th>end_lng</th>\n",
       "      <th>member_casual</th>\n",
       "      <th>source_file</th>\n",
       "    </tr>\n",
       "  </thead>\n",
       "  <tbody>\n",
       "    <tr>\n",
       "      <th>0</th>\n",
       "      <td>CDE6023BE6B11D2F</td>\n",
       "      <td>electric_bike</td>\n",
       "      <td>2024-06-11 17:20:06.289</td>\n",
       "      <td>2024-06-11 17:21:39.464</td>\n",
       "      <td>NaN</td>\n",
       "      <td>NaN</td>\n",
       "      <td>NaN</td>\n",
       "      <td>NaN</td>\n",
       "      <td>41.89</td>\n",
       "      <td>-87.65</td>\n",
       "      <td>41.89</td>\n",
       "      <td>-87.65</td>\n",
       "      <td>casual</td>\n",
       "      <td>202406-divvy-tripdata.csv</td>\n",
       "    </tr>\n",
       "    <tr>\n",
       "      <th>1</th>\n",
       "      <td>462B48CD292B6A18</td>\n",
       "      <td>electric_bike</td>\n",
       "      <td>2024-06-11 17:19:21.567</td>\n",
       "      <td>2024-06-11 17:19:36.377</td>\n",
       "      <td>NaN</td>\n",
       "      <td>NaN</td>\n",
       "      <td>NaN</td>\n",
       "      <td>NaN</td>\n",
       "      <td>41.89</td>\n",
       "      <td>-87.65</td>\n",
       "      <td>41.89</td>\n",
       "      <td>-87.65</td>\n",
       "      <td>casual</td>\n",
       "      <td>202406-divvy-tripdata.csv</td>\n",
       "    </tr>\n",
       "    <tr>\n",
       "      <th>2</th>\n",
       "      <td>9CFB6A858D23ABF7</td>\n",
       "      <td>electric_bike</td>\n",
       "      <td>2024-06-11 17:25:27.089</td>\n",
       "      <td>2024-06-11 17:30:13.035</td>\n",
       "      <td>NaN</td>\n",
       "      <td>NaN</td>\n",
       "      <td>NaN</td>\n",
       "      <td>NaN</td>\n",
       "      <td>41.93</td>\n",
       "      <td>-87.65</td>\n",
       "      <td>41.94</td>\n",
       "      <td>-87.65</td>\n",
       "      <td>casual</td>\n",
       "      <td>202406-divvy-tripdata.csv</td>\n",
       "    </tr>\n",
       "    <tr>\n",
       "      <th>3</th>\n",
       "      <td>6365EFEB64231153</td>\n",
       "      <td>electric_bike</td>\n",
       "      <td>2024-06-11 11:53:50.769</td>\n",
       "      <td>2024-06-11 12:08:13.382</td>\n",
       "      <td>NaN</td>\n",
       "      <td>NaN</td>\n",
       "      <td>NaN</td>\n",
       "      <td>NaN</td>\n",
       "      <td>41.88</td>\n",
       "      <td>-87.64</td>\n",
       "      <td>41.88</td>\n",
       "      <td>-87.64</td>\n",
       "      <td>casual</td>\n",
       "      <td>202406-divvy-tripdata.csv</td>\n",
       "    </tr>\n",
       "    <tr>\n",
       "      <th>4</th>\n",
       "      <td>BA0323C33134CBA8</td>\n",
       "      <td>electric_bike</td>\n",
       "      <td>2024-06-11 00:11:08.237</td>\n",
       "      <td>2024-06-11 00:11:22.998</td>\n",
       "      <td>NaN</td>\n",
       "      <td>NaN</td>\n",
       "      <td>NaN</td>\n",
       "      <td>NaN</td>\n",
       "      <td>41.94</td>\n",
       "      <td>-87.64</td>\n",
       "      <td>41.94</td>\n",
       "      <td>-87.64</td>\n",
       "      <td>casual</td>\n",
       "      <td>202406-divvy-tripdata.csv</td>\n",
       "    </tr>\n",
       "  </tbody>\n",
       "</table>\n",
       "</div>"
      ],
      "text/plain": [
       "            ride_id  rideable_type               started_at  \\\n",
       "0  CDE6023BE6B11D2F  electric_bike  2024-06-11 17:20:06.289   \n",
       "1  462B48CD292B6A18  electric_bike  2024-06-11 17:19:21.567   \n",
       "2  9CFB6A858D23ABF7  electric_bike  2024-06-11 17:25:27.089   \n",
       "3  6365EFEB64231153  electric_bike  2024-06-11 11:53:50.769   \n",
       "4  BA0323C33134CBA8  electric_bike  2024-06-11 00:11:08.237   \n",
       "\n",
       "                  ended_at start_station_name start_station_id  \\\n",
       "0  2024-06-11 17:21:39.464                NaN              NaN   \n",
       "1  2024-06-11 17:19:36.377                NaN              NaN   \n",
       "2  2024-06-11 17:30:13.035                NaN              NaN   \n",
       "3  2024-06-11 12:08:13.382                NaN              NaN   \n",
       "4  2024-06-11 00:11:22.998                NaN              NaN   \n",
       "\n",
       "  end_station_name end_station_id  start_lat  start_lng  end_lat  end_lng  \\\n",
       "0              NaN            NaN      41.89     -87.65    41.89   -87.65   \n",
       "1              NaN            NaN      41.89     -87.65    41.89   -87.65   \n",
       "2              NaN            NaN      41.93     -87.65    41.94   -87.65   \n",
       "3              NaN            NaN      41.88     -87.64    41.88   -87.64   \n",
       "4              NaN            NaN      41.94     -87.64    41.94   -87.64   \n",
       "\n",
       "  member_casual                source_file  \n",
       "0        casual  202406-divvy-tripdata.csv  \n",
       "1        casual  202406-divvy-tripdata.csv  \n",
       "2        casual  202406-divvy-tripdata.csv  \n",
       "3        casual  202406-divvy-tripdata.csv  \n",
       "4        casual  202406-divvy-tripdata.csv  "
      ]
     },
     "execution_count": 33,
     "metadata": {},
     "output_type": "execute_result"
    }
   ],
   "source": [
    "df.head()\n"
   ]
  },
  {
   "cell_type": "code",
   "execution_count": 34,
   "id": "9396b982-f958-4c68-8115-8060b2c4a03f",
   "metadata": {},
   "outputs": [],
   "source": [
    "# Remove rows with null values\n",
    "df.dropna(inplace=True)"
   ]
  },
  {
   "cell_type": "code",
   "execution_count": 35,
   "id": "515bf1b6-01f1-4dea-baa1-10644f4f88c4",
   "metadata": {},
   "outputs": [],
   "source": [
    "# Convert started_at and ended_at with mixed formats\n",
    "df['started_at'] = pd.to_datetime(df['started_at'], errors='coerce')\n",
    "df['ended_at'] = pd.to_datetime(df['ended_at'], errors='coerce')\n"
   ]
  },
  {
   "cell_type": "code",
   "execution_count": 36,
   "id": "1bf21d3c-a790-49ff-b5d4-3272c2a1913c",
   "metadata": {},
   "outputs": [],
   "source": [
    "df = df.dropna(subset=['started_at', 'ended_at'])\n"
   ]
  },
  {
   "cell_type": "code",
   "execution_count": 37,
   "id": "cbc8764d-f184-43ae-9c5a-8445946242cd",
   "metadata": {},
   "outputs": [],
   "source": [
    "# Create 'ride_length' in minutes\n",
    "df['ride_length'] = (df['ended_at'] - df['started_at']).dt.total_seconds() / 60\n"
   ]
  },
  {
   "cell_type": "code",
   "execution_count": 38,
   "id": "09581360-f471-41b7-be57-045166804427",
   "metadata": {},
   "outputs": [],
   "source": [
    "# Remove rows with negative ride_length\n",
    "df = df[df['ride_length'] >= 0]\n"
   ]
  },
  {
   "cell_type": "code",
   "execution_count": 39,
   "id": "c0dfcc60-a3dc-4505-ab39-9ec3ff3a1bc6",
   "metadata": {},
   "outputs": [],
   "source": [
    "# Add 'day_of_week' column\n",
    "df['day_of_week'] = df['started_at'].dt.day_name()"
   ]
  },
  {
   "cell_type": "code",
   "execution_count": 40,
   "id": "0b90e764-be96-4f74-85e8-d34c55913b65",
   "metadata": {},
   "outputs": [
    {
     "name": "stdout",
     "output_type": "stream",
     "text": [
      " Data cleaned and new columns added!\n"
     ]
    },
    {
     "data": {
      "text/html": [
       "<div>\n",
       "<style scoped>\n",
       "    .dataframe tbody tr th:only-of-type {\n",
       "        vertical-align: middle;\n",
       "    }\n",
       "\n",
       "    .dataframe tbody tr th {\n",
       "        vertical-align: top;\n",
       "    }\n",
       "\n",
       "    .dataframe thead th {\n",
       "        text-align: right;\n",
       "    }\n",
       "</style>\n",
       "<table border=\"1\" class=\"dataframe\">\n",
       "  <thead>\n",
       "    <tr style=\"text-align: right;\">\n",
       "      <th></th>\n",
       "      <th>ride_id</th>\n",
       "      <th>rideable_type</th>\n",
       "      <th>started_at</th>\n",
       "      <th>ended_at</th>\n",
       "      <th>start_station_name</th>\n",
       "      <th>start_station_id</th>\n",
       "      <th>end_station_name</th>\n",
       "      <th>end_station_id</th>\n",
       "      <th>start_lat</th>\n",
       "      <th>start_lng</th>\n",
       "      <th>end_lat</th>\n",
       "      <th>end_lng</th>\n",
       "      <th>member_casual</th>\n",
       "      <th>source_file</th>\n",
       "      <th>ride_length</th>\n",
       "      <th>day_of_week</th>\n",
       "    </tr>\n",
       "  </thead>\n",
       "  <tbody>\n",
       "    <tr>\n",
       "      <th>841</th>\n",
       "      <td>7FED56E160AFB564</td>\n",
       "      <td>classic_bike</td>\n",
       "      <td>2024-06-17 15:10:56.895</td>\n",
       "      <td>2024-06-17 15:12:30.744</td>\n",
       "      <td>California Ave &amp; Division St</td>\n",
       "      <td>13256</td>\n",
       "      <td>California Ave &amp; Division St</td>\n",
       "      <td>13256</td>\n",
       "      <td>41.903029</td>\n",
       "      <td>-87.697474</td>\n",
       "      <td>41.903029</td>\n",
       "      <td>-87.697474</td>\n",
       "      <td>casual</td>\n",
       "      <td>202406-divvy-tripdata.csv</td>\n",
       "      <td>1.564150</td>\n",
       "      <td>Monday</td>\n",
       "    </tr>\n",
       "    <tr>\n",
       "      <th>842</th>\n",
       "      <td>84260B28A7C9BBA1</td>\n",
       "      <td>classic_bike</td>\n",
       "      <td>2024-06-17 15:10:35.545</td>\n",
       "      <td>2024-06-17 15:12:12.398</td>\n",
       "      <td>California Ave &amp; Division St</td>\n",
       "      <td>13256</td>\n",
       "      <td>California Ave &amp; Division St</td>\n",
       "      <td>13256</td>\n",
       "      <td>41.903029</td>\n",
       "      <td>-87.697474</td>\n",
       "      <td>41.903029</td>\n",
       "      <td>-87.697474</td>\n",
       "      <td>casual</td>\n",
       "      <td>202406-divvy-tripdata.csv</td>\n",
       "      <td>1.614217</td>\n",
       "      <td>Monday</td>\n",
       "    </tr>\n",
       "    <tr>\n",
       "      <th>1306</th>\n",
       "      <td>95367640BB007C8D</td>\n",
       "      <td>classic_bike</td>\n",
       "      <td>2024-06-08 16:11:10.249</td>\n",
       "      <td>2024-06-08 16:21:25.419</td>\n",
       "      <td>California Ave &amp; Division St</td>\n",
       "      <td>13256</td>\n",
       "      <td>California Ave &amp; Milwaukee Ave</td>\n",
       "      <td>13084</td>\n",
       "      <td>41.903029</td>\n",
       "      <td>-87.697474</td>\n",
       "      <td>41.922695</td>\n",
       "      <td>-87.697153</td>\n",
       "      <td>casual</td>\n",
       "      <td>202406-divvy-tripdata.csv</td>\n",
       "      <td>10.252833</td>\n",
       "      <td>Saturday</td>\n",
       "    </tr>\n",
       "    <tr>\n",
       "      <th>1327</th>\n",
       "      <td>4DF083CCDC1B950F</td>\n",
       "      <td>electric_bike</td>\n",
       "      <td>2024-06-07 21:33:36.986</td>\n",
       "      <td>2024-06-07 21:45:23.864</td>\n",
       "      <td>California Ave &amp; Division St</td>\n",
       "      <td>13256</td>\n",
       "      <td>Wood St &amp; Chicago Ave</td>\n",
       "      <td>637</td>\n",
       "      <td>41.903013</td>\n",
       "      <td>-87.697619</td>\n",
       "      <td>41.895634</td>\n",
       "      <td>-87.672069</td>\n",
       "      <td>casual</td>\n",
       "      <td>202406-divvy-tripdata.csv</td>\n",
       "      <td>11.781300</td>\n",
       "      <td>Friday</td>\n",
       "    </tr>\n",
       "    <tr>\n",
       "      <th>1374</th>\n",
       "      <td>BFAD51AB1A4887B2</td>\n",
       "      <td>classic_bike</td>\n",
       "      <td>2024-06-24 17:51:13.687</td>\n",
       "      <td>2024-06-24 17:56:09.707</td>\n",
       "      <td>California Ave &amp; Milwaukee Ave</td>\n",
       "      <td>13084</td>\n",
       "      <td>California Ave &amp; Milwaukee Ave</td>\n",
       "      <td>13084</td>\n",
       "      <td>41.922695</td>\n",
       "      <td>-87.697153</td>\n",
       "      <td>41.922695</td>\n",
       "      <td>-87.697153</td>\n",
       "      <td>casual</td>\n",
       "      <td>202406-divvy-tripdata.csv</td>\n",
       "      <td>4.933667</td>\n",
       "      <td>Monday</td>\n",
       "    </tr>\n",
       "  </tbody>\n",
       "</table>\n",
       "</div>"
      ],
      "text/plain": [
       "               ride_id  rideable_type              started_at  \\\n",
       "841   7FED56E160AFB564   classic_bike 2024-06-17 15:10:56.895   \n",
       "842   84260B28A7C9BBA1   classic_bike 2024-06-17 15:10:35.545   \n",
       "1306  95367640BB007C8D   classic_bike 2024-06-08 16:11:10.249   \n",
       "1327  4DF083CCDC1B950F  electric_bike 2024-06-07 21:33:36.986   \n",
       "1374  BFAD51AB1A4887B2   classic_bike 2024-06-24 17:51:13.687   \n",
       "\n",
       "                    ended_at              start_station_name start_station_id  \\\n",
       "841  2024-06-17 15:12:30.744    California Ave & Division St            13256   \n",
       "842  2024-06-17 15:12:12.398    California Ave & Division St            13256   \n",
       "1306 2024-06-08 16:21:25.419    California Ave & Division St            13256   \n",
       "1327 2024-06-07 21:45:23.864    California Ave & Division St            13256   \n",
       "1374 2024-06-24 17:56:09.707  California Ave & Milwaukee Ave            13084   \n",
       "\n",
       "                    end_station_name end_station_id  start_lat  start_lng  \\\n",
       "841     California Ave & Division St          13256  41.903029 -87.697474   \n",
       "842     California Ave & Division St          13256  41.903029 -87.697474   \n",
       "1306  California Ave & Milwaukee Ave          13084  41.903029 -87.697474   \n",
       "1327           Wood St & Chicago Ave            637  41.903013 -87.697619   \n",
       "1374  California Ave & Milwaukee Ave          13084  41.922695 -87.697153   \n",
       "\n",
       "        end_lat    end_lng member_casual                source_file  \\\n",
       "841   41.903029 -87.697474        casual  202406-divvy-tripdata.csv   \n",
       "842   41.903029 -87.697474        casual  202406-divvy-tripdata.csv   \n",
       "1306  41.922695 -87.697153        casual  202406-divvy-tripdata.csv   \n",
       "1327  41.895634 -87.672069        casual  202406-divvy-tripdata.csv   \n",
       "1374  41.922695 -87.697153        casual  202406-divvy-tripdata.csv   \n",
       "\n",
       "      ride_length day_of_week  \n",
       "841      1.564150      Monday  \n",
       "842      1.614217      Monday  \n",
       "1306    10.252833    Saturday  \n",
       "1327    11.781300      Friday  \n",
       "1374     4.933667      Monday  "
      ]
     },
     "execution_count": 40,
     "metadata": {},
     "output_type": "execute_result"
    }
   ],
   "source": [
    "print(\" Data cleaned and new columns added!\")\n",
    "df.head()"
   ]
  },
  {
   "cell_type": "code",
   "execution_count": 41,
   "id": "4f983d94-23b4-47d3-abc4-f48824bb4511",
   "metadata": {},
   "outputs": [],
   "source": [
    "df.to_csv(\"C:/Users/SREEMOYEE/Documents/cyclistic_tripdata_cleaned.csv\", index=False)\n"
   ]
  },
  {
   "cell_type": "code",
   "execution_count": 42,
   "id": "9f618841-32dc-4994-ad82-b0973e5a23e2",
   "metadata": {},
   "outputs": [
    {
     "data": {
      "text/html": [
       "<div>\n",
       "<style scoped>\n",
       "    .dataframe tbody tr th:only-of-type {\n",
       "        vertical-align: middle;\n",
       "    }\n",
       "\n",
       "    .dataframe tbody tr th {\n",
       "        vertical-align: top;\n",
       "    }\n",
       "\n",
       "    .dataframe thead th {\n",
       "        text-align: right;\n",
       "    }\n",
       "</style>\n",
       "<table border=\"1\" class=\"dataframe\">\n",
       "  <thead>\n",
       "    <tr style=\"text-align: right;\">\n",
       "      <th></th>\n",
       "      <th>User Type</th>\n",
       "      <th>Total Rides</th>\n",
       "      <th>Avg Ride Length (min)</th>\n",
       "      <th>Median Ride Length (min)</th>\n",
       "      <th>Max Ride Length (min)</th>\n",
       "      <th>Min Ride Length (min)</th>\n",
       "    </tr>\n",
       "  </thead>\n",
       "  <tbody>\n",
       "    <tr>\n",
       "      <th>0</th>\n",
       "      <td>casual</td>\n",
       "      <td>208367</td>\n",
       "      <td>26.399290</td>\n",
       "      <td>15.136383</td>\n",
       "      <td>1496.330933</td>\n",
       "      <td>0.002583</td>\n",
       "    </tr>\n",
       "    <tr>\n",
       "      <th>1</th>\n",
       "      <td>member</td>\n",
       "      <td>285959</td>\n",
       "      <td>13.683851</td>\n",
       "      <td>9.903900</td>\n",
       "      <td>1488.204667</td>\n",
       "      <td>0.004383</td>\n",
       "    </tr>\n",
       "  </tbody>\n",
       "</table>\n",
       "</div>"
      ],
      "text/plain": [
       "  User Type  Total Rides  Avg Ride Length (min)  Median Ride Length (min)  \\\n",
       "0    casual       208367              26.399290                 15.136383   \n",
       "1    member       285959              13.683851                  9.903900   \n",
       "\n",
       "   Max Ride Length (min)  Min Ride Length (min)  \n",
       "0            1496.330933               0.002583  \n",
       "1            1488.204667               0.004383  "
      ]
     },
     "execution_count": 42,
     "metadata": {},
     "output_type": "execute_result"
    }
   ],
   "source": [
    "# Summary stats: total rides, avg, median, max, min ride_length\n",
    "summary = df.groupby('member_casual')['ride_length'].agg(['count', 'mean', 'median', 'max', 'min']).reset_index()\n",
    "summary.columns = ['User Type', 'Total Rides', 'Avg Ride Length (min)', 'Median Ride Length (min)', 'Max Ride Length (min)', 'Min Ride Length (min)']\n",
    "summary\n"
   ]
  },
  {
   "cell_type": "code",
   "execution_count": 43,
   "id": "ee2c2fd5-faa2-44d2-b3ce-b69f3a28f005",
   "metadata": {},
   "outputs": [
    {
     "data": {
      "text/html": [
       "<div>\n",
       "<style scoped>\n",
       "    .dataframe tbody tr th:only-of-type {\n",
       "        vertical-align: middle;\n",
       "    }\n",
       "\n",
       "    .dataframe tbody tr th {\n",
       "        vertical-align: top;\n",
       "    }\n",
       "\n",
       "    .dataframe thead th {\n",
       "        text-align: right;\n",
       "    }\n",
       "</style>\n",
       "<table border=\"1\" class=\"dataframe\">\n",
       "  <thead>\n",
       "    <tr style=\"text-align: right;\">\n",
       "      <th></th>\n",
       "      <th>member_casual</th>\n",
       "      <th>day_of_week</th>\n",
       "      <th>num_rides</th>\n",
       "    </tr>\n",
       "  </thead>\n",
       "  <tbody>\n",
       "    <tr>\n",
       "      <th>3</th>\n",
       "      <td>casual</td>\n",
       "      <td>Sunday</td>\n",
       "      <td>46209</td>\n",
       "    </tr>\n",
       "    <tr>\n",
       "      <th>10</th>\n",
       "      <td>member</td>\n",
       "      <td>Sunday</td>\n",
       "      <td>41800</td>\n",
       "    </tr>\n",
       "    <tr>\n",
       "      <th>1</th>\n",
       "      <td>casual</td>\n",
       "      <td>Monday</td>\n",
       "      <td>21290</td>\n",
       "    </tr>\n",
       "    <tr>\n",
       "      <th>8</th>\n",
       "      <td>member</td>\n",
       "      <td>Monday</td>\n",
       "      <td>39202</td>\n",
       "    </tr>\n",
       "    <tr>\n",
       "      <th>5</th>\n",
       "      <td>casual</td>\n",
       "      <td>Tuesday</td>\n",
       "      <td>20627</td>\n",
       "    </tr>\n",
       "    <tr>\n",
       "      <th>12</th>\n",
       "      <td>member</td>\n",
       "      <td>Tuesday</td>\n",
       "      <td>41147</td>\n",
       "    </tr>\n",
       "    <tr>\n",
       "      <th>6</th>\n",
       "      <td>casual</td>\n",
       "      <td>Wednesday</td>\n",
       "      <td>26660</td>\n",
       "    </tr>\n",
       "    <tr>\n",
       "      <th>13</th>\n",
       "      <td>member</td>\n",
       "      <td>Wednesday</td>\n",
       "      <td>44298</td>\n",
       "    </tr>\n",
       "    <tr>\n",
       "      <th>4</th>\n",
       "      <td>casual</td>\n",
       "      <td>Thursday</td>\n",
       "      <td>24207</td>\n",
       "    </tr>\n",
       "    <tr>\n",
       "      <th>11</th>\n",
       "      <td>member</td>\n",
       "      <td>Thursday</td>\n",
       "      <td>43205</td>\n",
       "    </tr>\n",
       "    <tr>\n",
       "      <th>0</th>\n",
       "      <td>casual</td>\n",
       "      <td>Friday</td>\n",
       "      <td>27353</td>\n",
       "    </tr>\n",
       "    <tr>\n",
       "      <th>7</th>\n",
       "      <td>member</td>\n",
       "      <td>Friday</td>\n",
       "      <td>38057</td>\n",
       "    </tr>\n",
       "    <tr>\n",
       "      <th>2</th>\n",
       "      <td>casual</td>\n",
       "      <td>Saturday</td>\n",
       "      <td>42021</td>\n",
       "    </tr>\n",
       "    <tr>\n",
       "      <th>9</th>\n",
       "      <td>member</td>\n",
       "      <td>Saturday</td>\n",
       "      <td>38250</td>\n",
       "    </tr>\n",
       "  </tbody>\n",
       "</table>\n",
       "</div>"
      ],
      "text/plain": [
       "   member_casual day_of_week  num_rides\n",
       "3         casual      Sunday      46209\n",
       "10        member      Sunday      41800\n",
       "1         casual      Monday      21290\n",
       "8         member      Monday      39202\n",
       "5         casual     Tuesday      20627\n",
       "12        member     Tuesday      41147\n",
       "6         casual   Wednesday      26660\n",
       "13        member   Wednesday      44298\n",
       "4         casual    Thursday      24207\n",
       "11        member    Thursday      43205\n",
       "0         casual      Friday      27353\n",
       "7         member      Friday      38057\n",
       "2         casual    Saturday      42021\n",
       "9         member    Saturday      38250"
      ]
     },
     "execution_count": 43,
     "metadata": {},
     "output_type": "execute_result"
    }
   ],
   "source": [
    "# Total rides per weekday by user type\n",
    "rides_per_day = df.groupby(['member_casual', 'day_of_week']).size().reset_index(name='num_rides')\n",
    "# Sort weekdays\n",
    "days_order = ['Sunday', 'Monday', 'Tuesday', 'Wednesday', 'Thursday', 'Friday', 'Saturday']\n",
    "rides_per_day['day_of_week'] = pd.Categorical(rides_per_day['day_of_week'], categories=days_order, ordered=True)\n",
    "rides_per_day = rides_per_day.sort_values('day_of_week')\n",
    "\n",
    "rides_per_day"
   ]
  },
  {
   "cell_type": "code",
   "execution_count": 44,
   "id": "8cd8f498-67cd-4a54-8c2f-40c034190342",
   "metadata": {},
   "outputs": [],
   "source": [
    "#visualization\n",
    "import matplotlib.pyplot as plt\n",
    "import seaborn as sns"
   ]
  },
  {
   "cell_type": "code",
   "execution_count": 45,
   "id": "2924ba4b-8bed-4ee5-b5cf-6bc2d24e104e",
   "metadata": {},
   "outputs": [
    {
     "data": {
      "image/png": "[encoded data removed]",
      "text/plain": [
       "<Figure size 1000x600 with 1 Axes>"
      ]
     },
     "metadata": {},
     "output_type": "display_data"
    }
   ],
   "source": [
    "# Bar chart: Total rides per weekday\n",
    "plt.figure(figsize=(10,6))\n",
    "sns.barplot(data=rides_per_day, x='day_of_week', y='num_rides', hue='member_casual')\n",
    "plt.title('Total Rides per Weekday (Members vs Casual)')\n",
    "plt.xlabel('Day of Week')\n",
    "plt.ylabel('Number of Rides')\n",
    "plt.legend(title='User Type')\n",
    "plt.show()"
   ]
  },
  {
   "cell_type": "code",
   "execution_count": 46,
   "id": "92e02081-23a0-4737-ac1c-eed53021beb9",
   "metadata": {},
   "outputs": [],
   "source": [
    "# Avg ride length per weekday\n",
    "avg_ride_length_day = df.groupby(['member_casual', 'day_of_week'])['ride_length'].mean().reset_index()\n",
    "avg_ride_length_day['day_of_week'] = pd.Categorical(avg_ride_length_day['day_of_week'], categories=days_order, ordered=True)\n",
    "avg_ride_length_day = avg_ride_length_day.sort_values('day_of_week')\n"
   ]
  },
  {
   "cell_type": "code",
   "execution_count": 47,
   "id": "5a1634c7-0a8e-4c2b-98cb-f0e7860f4185",
   "metadata": {},
   "outputs": [
    {
     "data": {
      "image/png": "[encoded data removed]",
      "text/plain": [
       "<Figure size 1000x600 with 1 Axes>"
      ]
     },
     "metadata": {},
     "output_type": "display_data"
    }
   ],
   "source": [
    "# Bar chart: Avg ride length per weekday\n",
    "plt.figure(figsize=(10,6))\n",
    "sns.barplot(data=avg_ride_length_day, x='day_of_week', y='ride_length', hue='member_casual')\n",
    "plt.title('Average Ride Length per Weekday (Members vs Casual)')\n",
    "plt.xlabel('Day of Week')\n",
    "plt.ylabel('Avg Ride Length (min)')\n",
    "plt.legend(title='User Type')\n",
    "plt.show()"
   ]
  },
  {
   "cell_type": "code",
   "execution_count": 48,
   "id": "14fbfaf3-7c19-464c-88c4-9eee13c4309b",
   "metadata": {},
   "outputs": [
    {
     "data": {
      "image/png": "[encoded data removed]",
      "text/plain": [
       "<Figure size 600x600 with 1 Axes>"
      ]
     },
     "metadata": {},
     "output_type": "display_data"
    }
   ],
   "source": [
    "# Pie chart\n",
    "#total rides by user type\n",
    "user_counts = df['member_casual'].value_counts()\n",
    "plt.figure(figsize=(6,6))\n",
    "plt.pie(user_counts, labels=user_counts.index, autopct='%1.1f%%', startangle=90, colors=['#66b3ff','#99ff99'])\n",
    "plt.title('Total Rides by User Type')\n",
    "plt.show()"
   ]
  },
  {
   "cell_type": "code",
   "execution_count": null,
   "id": "18f70857-e140-4c4a-8f3e-1f3367aff0f9",
   "metadata": {},
   "outputs": [],
   "source": []
  }
 ],
 "metadata": {
  "kernelspec": {
   "display_name": "Python [conda env:base] *",
   "language": "python",
   "name": "conda-base-py"
  },
  "language_info": {
   "codemirror_mode": {
    "name": "ipython",
    "version": 3
   },
   "file_extension": ".py",
   "mimetype": "text/x-python",
   "name": "python",
   "nbconvert_exporter": "python",
   "pygments_lexer": "ipython3",
   "version": "3.12.7"
  }
 },
 "nbformat": 4,
 "nbformat_minor": 5
}
